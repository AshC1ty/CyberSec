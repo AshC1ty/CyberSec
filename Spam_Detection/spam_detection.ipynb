{
 "cells": [
  {
   "cell_type": "code",
   "execution_count": 268,
   "metadata": {},
   "outputs": [],
   "source": [
    "import pandas as pd\n",
    "import string\n",
    "import numpy as np\n",
    "from sklearn.feature_extraction.text import CountVectorizer\n",
    "from sklearn.model_selection import train_test_split\n",
    "from sklearn.naive_bayes import MultinomialNB\n",
    "from sklearn.metrics import accuracy_score\n"
   ]
  },
  {
   "cell_type": "code",
   "execution_count": 269,
   "metadata": {},
   "outputs": [],
   "source": [
    "emails = [\n",
    "    [0,'Hello, how are you'],\n",
    "    [1,'Win epic prices today, win from home'],\n",
    "    [0,\"Call me now. I need to speak with you\"],\n",
    "    [0,'Can we have a meeting soon']\n",
    "    ]"
   ]
  },
  {
   "cell_type": "code",
   "execution_count": 270,
   "metadata": {},
   "outputs": [
    {
     "name": "stdout",
     "output_type": "stream",
     "text": [
      "  tag                           mail_message\n",
      "0   0                     Hello, how are you\n",
      "1   1   Win epic prices today, win from home\n",
      "2   0  Call me now. I need to speak with you\n",
      "3   0             Can we have a meeting soon\n",
      "\n",
      "Number of rows in the total set: 4\n",
      "Number of rows in the total training set: 3\n",
      "Number of rows in the total test set: 1\n"
     ]
    }
   ],
   "source": [
    "df = pd.DataFrame(np.array(emails),columns=['tag','mail_message'])\n",
    "\n",
    "print(df.head())\n",
    "\n",
    "X_train, X_test, y_train, y_test = train_test_split(df['mail_message'], df['tag'])\n",
    "\n",
    "print(\"\\nNumber of rows in the total set: {}\".format(df.shape[0]))\n",
    "print(\"Number of rows in the total training set: {}\".format(X_train.shape[0]))\n",
    "print(\"Number of rows in the total test set: {}\".format(X_test.shape[0]))"
   ]
  },
  {
   "cell_type": "code",
   "execution_count": 271,
   "metadata": {},
   "outputs": [
    {
     "name": "stdout",
     "output_type": "stream",
     "text": [
      "\n",
      "X_train documents:\n",
      "Call me now. I need to speak with you\n",
      "Hello, how are you\n",
      "Win epic prices today, win from home\n",
      "\n",
      "X_test documents:\n",
      "Can we have a meeting soon\n"
     ]
    }
   ],
   "source": [
    "print(\"\\nX_train documents:\")\n",
    "for doc in X_train:\n",
    "    print(doc)\n",
    "\n",
    "print(\"\\nX_test documents:\")\n",
    "for doc in X_test:\n",
    "    print(doc)"
   ]
  },
  {
   "cell_type": "code",
   "execution_count": 272,
   "metadata": {},
   "outputs": [
    {
     "name": "stdout",
     "output_type": "stream",
     "text": [
      "   are  call  epic  from  hello  home  how  me  need  now  prices  speak  to  \\\n",
      "0    0     1     0     0      0     0    0   1     1    1       0      1   1   \n",
      "1    1     0     0     0      1     0    1   0     0    0       0      0   0   \n",
      "2    0     0     1     1      0     1    0   0     0    0       1      0   0   \n",
      "\n",
      "   today  win  with  you  \n",
      "0      0    0     1    1  \n",
      "1      0    0     0    1  \n",
      "2      1    2     0    0  \n"
     ]
    }
   ],
   "source": [
    "count_vector = CountVectorizer()\n",
    "training_data = count_vector.fit_transform(X_train)\n",
    "#print(training_data)\n",
    "#print(count_vector.get_feature_names_out())\n",
    "print(pd.DataFrame(training_data.toarray(),columns=count_vector.get_feature_names_out()))"
   ]
  },
  {
   "cell_type": "code",
   "execution_count": 273,
   "metadata": {},
   "outputs": [
    {
     "name": "stdout",
     "output_type": "stream",
     "text": [
      "The prediction was :  ['0']\n",
      "Accuracy score:  1.0\n"
     ]
    }
   ],
   "source": [
    "testing_data = count_vector.transform(X_test)\n",
    "\n",
    "naive_bayes = MultinomialNB()\n",
    "naive_bayes.fit(training_data, y_train)\n",
    "\n",
    "predictions= naive_bayes.predict(testing_data)\n",
    "\n",
    "print(\"The prediction was : \", predictions)\n",
    "print('Accuracy score: ',format(accuracy_score(y_test,predictions)))"
   ]
  }
 ],
 "metadata": {
  "kernelspec": {
   "display_name": "Python 3",
   "language": "python",
   "name": "python3"
  },
  "language_info": {
   "codemirror_mode": {
    "name": "ipython",
    "version": 3
   },
   "file_extension": ".py",
   "mimetype": "text/x-python",
   "name": "python",
   "nbconvert_exporter": "python",
   "pygments_lexer": "ipython3",
   "version": "3.12.1"
  }
 },
 "nbformat": 4,
 "nbformat_minor": 2
}
